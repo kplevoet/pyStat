{
 "cells": [
  {
   "cell_type": "markdown",
   "metadata": {},
   "source": [
    "# Introduction to Statistics with Python"
   ]
  },
  {
   "cell_type": "markdown",
   "metadata": {},
   "source": [
    "```\n",
    "Koen Plevoets\n",
    "Last modified: 2020-12-12\n",
    "```"
   ]
  },
  {
   "cell_type": "markdown",
   "metadata": {},
   "source": [
    "# Class 5"
   ]
  },
  {
   "cell_type": "markdown",
   "metadata": {},
   "source": [
    "## Chapter 8: Statistical inference with SciPy"
   ]
  },
  {
   "cell_type": "markdown",
   "metadata": {},
   "source": [
    "All the functions for the basic statistical tests are in the submodule `stats` of **SciPy** (abbreviated as `scipy`)."
   ]
  },
  {
   "cell_type": "code",
   "execution_count": null,
   "metadata": {},
   "outputs": [],
   "source": [
    "from scipy import stats"
   ]
  },
  {
   "cell_type": "markdown",
   "metadata": {},
   "source": [
    "### 8.1 Tests for categorical data"
   ]
  },
  {
   "cell_type": "markdown",
   "metadata": {},
   "source": [
    "We construct a frequency table of the columns `SmokeGroup` and `Mortality` (again):"
   ]
  },
  {
   "cell_type": "code",
   "execution_count": null,
   "metadata": {},
   "outputs": [],
   "source": [
    "import pandas as pd\n",
    "chol = pd.read_table('chol.txt')\n",
    "chol_tab = pd.crosstab(chol.SmokeGroup, chol.Mortality)\n",
    "print(chol_tab)"
   ]
  },
  {
   "cell_type": "markdown",
   "metadata": {},
   "source": [
    "The **Pearson's test** for independence between rows and columns is done with the function `chi2_contingency()`. It accepts an array or a DataFrame as its argument, and it returns (a tuple of) four elements."
   ]
  },
  {
   "cell_type": "code",
   "execution_count": null,
   "metadata": {},
   "outputs": [],
   "source": [
    "chi2, p, dof, expected = stats.chi2_contingency(chol_tab)"
   ]
  },
  {
   "cell_type": "code",
   "execution_count": null,
   "metadata": {},
   "outputs": [],
   "source": [
    "chi2"
   ]
  },
  {
   "cell_type": "code",
   "execution_count": null,
   "metadata": {},
   "outputs": [],
   "source": [
    "p"
   ]
  },
  {
   "cell_type": "code",
   "execution_count": null,
   "metadata": {},
   "outputs": [],
   "source": [
    "dof"
   ]
  },
  {
   "cell_type": "code",
   "execution_count": null,
   "metadata": {},
   "outputs": [],
   "source": [
    "expected"
   ]
  },
  {
   "cell_type": "markdown",
   "metadata": {},
   "source": [
    "**Fisher's Exact test** is an alternative for 2x2 tables and small samples. It is done with the function `fisher_exact()` which returns two elements."
   ]
  },
  {
   "cell_type": "code",
   "execution_count": null,
   "metadata": {},
   "outputs": [],
   "source": [
    "tea = pd.DataFrame( [[3, 1], [1, 3]], index = ['guessed: tea', 'guessed: milk'],\n",
    "    columns = ['poured: tea', 'poured: milk'])\n",
    "print(tea)"
   ]
  },
  {
   "cell_type": "code",
   "execution_count": null,
   "metadata": {},
   "outputs": [],
   "source": [
    "OR, p = stats.fisher_exact(tea)"
   ]
  },
  {
   "cell_type": "code",
   "execution_count": null,
   "metadata": {},
   "outputs": [],
   "source": [
    "OR"
   ]
  },
  {
   "cell_type": "code",
   "execution_count": null,
   "metadata": {},
   "outputs": [],
   "source": [
    "p"
   ]
  },
  {
   "cell_type": "markdown",
   "metadata": {},
   "source": [
    "### 8.2 Tests for continuous data"
   ]
  },
  {
   "cell_type": "markdown",
   "metadata": {},
   "source": [
    "For continuous data we make the distinction between **one-sample tests** and **two-sample tests**."
   ]
  },
  {
   "cell_type": "markdown",
   "metadata": {},
   "source": [
    "One-sample tests"
   ]
  },
  {
   "cell_type": "markdown",
   "metadata": {},
   "source": [
    "Which test to use depends on the **normality** of your data, so you have to check that first! The normality test can be done with `shapiro()`, and we will illustrate everything with the `iris` data."
   ]
  },
  {
   "cell_type": "code",
   "execution_count": null,
   "metadata": {},
   "outputs": [],
   "source": [
    "iris = pd.read_csv('iris.csv', sep=';') # If not read in yet\n",
    "SpWi = iris['Sepal_Width']\n",
    "SpWi.describe()"
   ]
  },
  {
   "cell_type": "code",
   "execution_count": null,
   "metadata": {},
   "outputs": [],
   "source": [
    "W, p = stats.shapiro(SpWi)"
   ]
  },
  {
   "cell_type": "code",
   "execution_count": null,
   "metadata": {},
   "outputs": [],
   "source": [
    "W"
   ]
  },
  {
   "cell_type": "code",
   "execution_count": null,
   "metadata": {},
   "outputs": [],
   "source": [
    "p"
   ]
  },
  {
   "cell_type": "markdown",
   "metadata": {},
   "source": [
    "There are other functions for testing normality in SciPy but will not cover them. An alternative way to check normality is graphically by means of the function `probplot()`."
   ]
  },
  {
   "cell_type": "code",
   "execution_count": null,
   "metadata": {},
   "outputs": [],
   "source": [
    "import matplotlib.pyplot as plt\n",
    "stats.probplot(SpWi, plot = plt)\n",
    "plt.show()"
   ]
  },
  {
   "cell_type": "markdown",
   "metadata": {},
   "source": [
    "Now that we have checked normality, we can use a **one-sample t-test** for an hypothetical mean. The function is `ttest_1samp()` and you specify the hypothetical mean value as the second argument."
   ]
  },
  {
   "cell_type": "code",
   "execution_count": null,
   "metadata": {},
   "outputs": [],
   "source": [
    "stat, p = stats.ttest_1samp(SpWi, popmean = 4)    # Test for H0: mu = 4"
   ]
  },
  {
   "cell_type": "code",
   "execution_count": null,
   "metadata": {},
   "outputs": [],
   "source": [
    "stat"
   ]
  },
  {
   "cell_type": "code",
   "execution_count": null,
   "metadata": {},
   "outputs": [],
   "source": [
    "p"
   ]
  },
  {
   "cell_type": "markdown",
   "metadata": {},
   "source": [
    "If your data are not normally distributed, then you can use the **Wilcoxon's signed-rank test**. This is the non-parametric alternative to the 1-sample t-test and the function for it is `wilcoxon()`. However, it always tests for `popmean = 0`, so you have **substract** your hypothetical value from your data."
   ]
  },
  {
   "cell_type": "code",
   "execution_count": null,
   "metadata": {},
   "outputs": [],
   "source": [
    "SpLe = iris['Sepal_Length']\n",
    "W, p_shapiro = stats.shapiro(SpLe)"
   ]
  },
  {
   "cell_type": "code",
   "execution_count": null,
   "metadata": {},
   "outputs": [],
   "source": [
    "W"
   ]
  },
  {
   "cell_type": "code",
   "execution_count": null,
   "metadata": {},
   "outputs": [],
   "source": [
    "p_shapiro"
   ]
  },
  {
   "cell_type": "code",
   "execution_count": null,
   "metadata": {},
   "outputs": [],
   "source": [
    "stat, p_wilcoxon = stats.wilcoxon(SpLe - 4)"
   ]
  },
  {
   "cell_type": "code",
   "execution_count": null,
   "metadata": {},
   "outputs": [],
   "source": [
    "stat"
   ]
  },
  {
   "cell_type": "code",
   "execution_count": null,
   "metadata": {},
   "outputs": [],
   "source": [
    "p_wilcoxon"
   ]
  },
  {
   "cell_type": "markdown",
   "metadata": {},
   "source": [
    "Two-sample tests"
   ]
  },
  {
   "cell_type": "markdown",
   "metadata": {},
   "source": [
    "For comparing the means of **two samples**, we make the distinction between **independent** and **paired** samples:\n",
    "\n",
    "- **Independent samples** are the observations from two **different groups**, e.g. Species `versicolor` vs. `virginica`.\n",
    "- **Paired samples** are two **measurements on the same set** of observations, e.g. `Sepal_Length` vs. `Petal_Length`."
   ]
  },
  {
   "cell_type": "markdown",
   "metadata": {},
   "source": [
    "For independent samples you need to check **two** assumptions:\n",
    "\n",
    "- Check whether **both** samples are **normally distributed**.\n",
    "- Check whether both samples are \"homoscedastic\", i.e. have **equal variances**."
   ]
  },
  {
   "cell_type": "markdown",
   "metadata": {},
   "source": [
    "In the `iris` data, the `Sepal_Width` variable seems normally distributed for both `versicolor` and `virginica`:"
   ]
  },
  {
   "cell_type": "code",
   "execution_count": null,
   "metadata": {},
   "outputs": [],
   "source": [
    "SpWi_versicolor = iris.loc[iris.Species == 'versicolor', 'Sepal_Width']\n",
    "SpWi_virginica = iris.loc[iris.Species == 'virginica', 'Sepal_Width']\n",
    "W_versicolor, p_versicolor = stats.shapiro(SpWi_versicolor)\n",
    "W_virginica, p_virginica = stats.shapiro(SpWi_virginica)"
   ]
  },
  {
   "cell_type": "code",
   "execution_count": null,
   "metadata": {},
   "outputs": [],
   "source": [
    "p_versicolor"
   ]
  },
  {
   "cell_type": "code",
   "execution_count": null,
   "metadata": {},
   "outputs": [],
   "source": [
    "p_virginica"
   ]
  },
  {
   "cell_type": "markdown",
   "metadata": {},
   "source": [
    "If **both** samples are **normally distributed**, then you can check **equality of variances** with **Bartlett's test**. The function for Bartlett's test is `bartlett()` which returns two elements."
   ]
  },
  {
   "cell_type": "code",
   "execution_count": null,
   "metadata": {},
   "outputs": [],
   "source": [
    "stat_bartlett, p_bartlett = stats.bartlett(SpWi_versicolor, SpWi_virginica)"
   ]
  },
  {
   "cell_type": "code",
   "execution_count": null,
   "metadata": {},
   "outputs": [],
   "source": [
    "stat_bartlett"
   ]
  },
  {
   "cell_type": "code",
   "execution_count": null,
   "metadata": {},
   "outputs": [],
   "source": [
    "p_bartlett"
   ]
  },
  {
   "cell_type": "markdown",
   "metadata": {},
   "source": [
    "If one of the samples **deviates from normality**, then you can use **Levene's test** for **equality of variances**. The function is `levene()` which also returns two elements."
   ]
  },
  {
   "cell_type": "code",
   "execution_count": null,
   "metadata": {},
   "outputs": [],
   "source": [
    "stat_levene, p_levene = stats.levene(SpWi_versicolor, SpWi_virginica)"
   ]
  },
  {
   "cell_type": "code",
   "execution_count": null,
   "metadata": {},
   "outputs": [],
   "source": [
    "stat_levene"
   ]
  },
  {
   "cell_type": "code",
   "execution_count": null,
   "metadata": {},
   "outputs": [],
   "source": [
    "p_levene"
   ]
  },
  {
   "cell_type": "markdown",
   "metadata": {},
   "source": [
    "The check for equality of variances has repercussions for the comparison of the means, i.e. the **t-test**. The function for it is `ttest_ind()` which has a third argument `equal_var` which is by default `True`."
   ]
  },
  {
   "cell_type": "code",
   "execution_count": null,
   "metadata": {},
   "outputs": [],
   "source": [
    "stat_t, p_t = stats.ttest_ind(SpWi_versicolor, SpWi_virginica, equal_var = True)"
   ]
  },
  {
   "cell_type": "code",
   "execution_count": null,
   "metadata": {},
   "outputs": [],
   "source": [
    "stat_t"
   ]
  },
  {
   "cell_type": "code",
   "execution_count": null,
   "metadata": {},
   "outputs": [],
   "source": [
    "p_t"
   ]
  },
  {
   "cell_type": "markdown",
   "metadata": {},
   "source": [
    "Not necessary:"
   ]
  },
  {
   "cell_type": "code",
   "execution_count": null,
   "metadata": {},
   "outputs": [],
   "source": [
    "stats.ttest_ind(SpWi_versicolor, SpWi_virginica, equal_var = False)"
   ]
  },
  {
   "cell_type": "markdown",
   "metadata": {},
   "source": [
    "If **one** of the samples is **not normally distributed**, then you can only use the t-test for **large samples** (i.e. > 100). Otherwise, you have to use the non-parametric **Mann-Whitney U test**, the function for which is `mannwhitneyu()`."
   ]
  },
  {
   "cell_type": "code",
   "execution_count": null,
   "metadata": {},
   "outputs": [],
   "source": [
    "PtWi_versicolor = iris.loc[iris.Species == 'versicolor', 'Petal_Width']\n",
    "PtWi_virginica = iris.loc[iris.Species == 'virginica', 'Petal_Width']\n",
    "W_versicolor, p_versicolor = stats.shapiro(PtWi_versicolor)\n",
    "W_virginica, p_virginica = stats.shapiro(PtWi_virginica)"
   ]
  },
  {
   "cell_type": "code",
   "execution_count": null,
   "metadata": {},
   "outputs": [],
   "source": [
    "p_versicolor"
   ]
  },
  {
   "cell_type": "code",
   "execution_count": null,
   "metadata": {},
   "outputs": [],
   "source": [
    "p_virginica"
   ]
  },
  {
   "cell_type": "markdown",
   "metadata": {},
   "source": [
    "The Mann-Whitney U test does not require a check for equality of variances:"
   ]
  },
  {
   "cell_type": "code",
   "execution_count": null,
   "metadata": {},
   "outputs": [],
   "source": [
    "stat_U, p_U = stats.mannwhitneyu(PtWi_versicolor, PtWi_virginica)"
   ]
  },
  {
   "cell_type": "code",
   "execution_count": null,
   "metadata": {},
   "outputs": [],
   "source": [
    "stat_U"
   ]
  },
  {
   "cell_type": "code",
   "execution_count": null,
   "metadata": {},
   "outputs": [],
   "source": [
    "p_U"
   ]
  },
  {
   "cell_type": "markdown",
   "metadata": {},
   "source": [
    "With **paired data** you only need to check for **normality** of both variables, **not** the **equality of variances**. We illustrate everything with the variables `Sepal_Length` and `Petal_Length` for the `versicolor` Species:"
   ]
  },
  {
   "cell_type": "code",
   "execution_count": null,
   "metadata": {},
   "outputs": [],
   "source": [
    "SpLe_versicolor = iris.loc[iris.Species == 'versicolor', 'Sepal_Length']\n",
    "PtLe_versicolor = iris.loc[iris.Species == 'versicolor', 'Petal_Length']\n",
    "W_Sp, p_Sp = stats.shapiro(SpLe_versicolor)\n",
    "W_Pt, p_Pt = stats.shapiro(PtLe_versicolor)"
   ]
  },
  {
   "cell_type": "code",
   "execution_count": null,
   "metadata": {},
   "outputs": [],
   "source": [
    "p_Sp"
   ]
  },
  {
   "cell_type": "code",
   "execution_count": null,
   "metadata": {},
   "outputs": [],
   "source": [
    "p_Pt"
   ]
  },
  {
   "cell_type": "markdown",
   "metadata": {},
   "source": [
    "The function for the **paired t-test** is `ttest_rel()`."
   ]
  },
  {
   "cell_type": "code",
   "execution_count": null,
   "metadata": {},
   "outputs": [],
   "source": [
    "stat_paired, p_paired = stats.ttest_rel(SpLe_versicolor, PtLe_versicolor)"
   ]
  },
  {
   "cell_type": "code",
   "execution_count": null,
   "metadata": {},
   "outputs": [],
   "source": [
    "stat_paired"
   ]
  },
  {
   "cell_type": "code",
   "execution_count": null,
   "metadata": {},
   "outputs": [],
   "source": [
    "p_paired"
   ]
  },
  {
   "cell_type": "markdown",
   "metadata": {},
   "source": [
    "If **one** of the samples is **not normally distributed**, then you can again only use the t-test for **large samples** (i.e. > 100). The alternative is to use the **Wilcoxon's Signed-Rank test** (but for this data it is actually not necessary):"
   ]
  },
  {
   "cell_type": "code",
   "execution_count": null,
   "metadata": {},
   "outputs": [],
   "source": [
    "stat_wcx, p_wcx = stats.wilcoxon(SpLe_versicolor, PtLe_versicolor)"
   ]
  },
  {
   "cell_type": "code",
   "execution_count": null,
   "metadata": {},
   "outputs": [],
   "source": [
    "stat_wcx"
   ]
  },
  {
   "cell_type": "code",
   "execution_count": null,
   "metadata": {},
   "outputs": [],
   "source": [
    "p_wcx"
   ]
  },
  {
   "cell_type": "markdown",
   "metadata": {},
   "source": [
    "The straightforward generalization of comparing two samples is comparing **more than two samples**. For such comparisons, there is again a parametric technique and a non-parametric alternative."
   ]
  },
  {
   "cell_type": "markdown",
   "metadata": {},
   "source": [
    "The parametric technique is **One-way ANOVA** and the function for it is `f_oneway()`. We illustrate it by comparing the `Sepal_Width` for all three `Species`:"
   ]
  },
  {
   "cell_type": "code",
   "execution_count": null,
   "metadata": {},
   "outputs": [],
   "source": [
    "SpWi_setosa = iris.loc[iris.Species == 'setosa', 'Sepal_Width']\n",
    "W_setosa, p_setosa = stats.shapiro(SpWi_setosa)\n",
    "p_setosa"
   ]
  },
  {
   "cell_type": "code",
   "execution_count": null,
   "metadata": {},
   "outputs": [],
   "source": [
    "SpWi_setosa.describe()"
   ]
  },
  {
   "cell_type": "code",
   "execution_count": null,
   "metadata": {},
   "outputs": [],
   "source": [
    "SpWi_versicolor.describe()"
   ]
  },
  {
   "cell_type": "code",
   "execution_count": null,
   "metadata": {},
   "outputs": [],
   "source": [
    "SpWi_virginica.describe()"
   ]
  },
  {
   "cell_type": "code",
   "execution_count": null,
   "metadata": {},
   "outputs": [],
   "source": [
    "stat_oneway, p_oneway = stats.f_oneway(SpWi_setosa, SpWi_versicolor, SpWi_virginica)"
   ]
  },
  {
   "cell_type": "code",
   "execution_count": null,
   "metadata": {},
   "outputs": [],
   "source": [
    "stat_oneway"
   ]
  },
  {
   "cell_type": "code",
   "execution_count": null,
   "metadata": {},
   "outputs": [],
   "source": [
    "p_oneway"
   ]
  },
  {
   "cell_type": "markdown",
   "metadata": {},
   "source": [
    "The non-parametric alternative is the **Kruskal-Wallis test** and the function for it is `kruskal()`."
   ]
  },
  {
   "cell_type": "code",
   "execution_count": null,
   "metadata": {},
   "outputs": [],
   "source": [
    "stat_KW, p_KW = stats.kruskal(SpWi_setosa, SpWi_versicolor, SpWi_virginica)"
   ]
  },
  {
   "cell_type": "code",
   "execution_count": null,
   "metadata": {},
   "outputs": [],
   "source": [
    "stat_KW"
   ]
  },
  {
   "cell_type": "code",
   "execution_count": null,
   "metadata": {},
   "outputs": [],
   "source": [
    "p_KW"
   ]
  },
  {
   "cell_type": "markdown",
   "metadata": {},
   "source": [
    "### Exercises\n",
    "\n",
    "15. Perform the following statistical tests:\n",
    "\n",
    "  15.1 Test whether each of the three substances in the `substance` dataset depend on `Gender`. Do the same for `Race`.\n",
    "\n",
    "  15.2 Test whether the cholesterol values are the same for the smokers and the non-smokers. **Hint**: you probably need to make two separate objects. Use indexes to do that. Motivate each step of your approach!"
   ]
  },
  {
   "cell_type": "code",
   "execution_count": null,
   "metadata": {},
   "outputs": [],
   "source": []
  },
  {
   "cell_type": "markdown",
   "metadata": {},
   "source": [
    "## Chapter 9: Statistical modelling with statsmodels"
   ]
  },
  {
   "cell_type": "markdown",
   "metadata": {},
   "source": [
    "Statistical models such as **ANOVA** are usually fitted with the functionalities of the module **statsmodels**."
   ]
  },
  {
   "cell_type": "code",
   "execution_count": null,
   "metadata": {},
   "outputs": [],
   "source": [
    "import statsmodels.formula.api as smf\n",
    "iris_oneway = smf.ols('Sepal_Width ~ Species', iris).fit()\n",
    "print(iris_oneway.summary())"
   ]
  },
  {
   "cell_type": "markdown",
   "metadata": {},
   "source": [
    "**Linear regression** has the same structure as ANOVA but the predictor is **numeric**."
   ]
  },
  {
   "cell_type": "code",
   "execution_count": null,
   "metadata": {},
   "outputs": [],
   "source": [
    "iris_lm = smf.ols('Sepal_Width ~ Petal_Width', iris).fit()\n",
    "print(iris_lm.summary())"
   ]
  },
  {
   "cell_type": "markdown",
   "metadata": {},
   "source": [
    "**Multiple linear regression** involves **more than one** predictor and potential **nonlinear** terms."
   ]
  },
  {
   "cell_type": "code",
   "execution_count": null,
   "metadata": {},
   "outputs": [],
   "source": [
    "iris_reg = smf.ols('Sepal_Width ~ Petal_Width + Sepal_Length + I(Petal_Width ** 2)', iris).fit()\n",
    "print(iris_reg.summary())"
   ]
  },
  {
   "cell_type": "markdown",
   "metadata": {},
   "source": [
    "Finally, ANCOVA is the name for a linear model involving the **interaction** between a numeric and a categorical predictor."
   ]
  },
  {
   "cell_type": "code",
   "execution_count": null,
   "metadata": {},
   "outputs": [],
   "source": [
    "iris_ancova = smf.ols('Sepal_Width ~ Petal_Width + Species + Petal_Width : Species', iris).fit()\n",
    "print(iris_ancova.summary())"
   ]
  },
  {
   "cell_type": "markdown",
   "metadata": {},
   "source": [
    "Abbreviated formula:"
   ]
  },
  {
   "cell_type": "code",
   "execution_count": null,
   "metadata": {},
   "outputs": [],
   "source": [
    "iris_ancova = smf.ols('Sepal_Width ~ Petal_Width * Species', iris).fit()\n",
    "print(iris_ancova.summary())"
   ]
  },
  {
   "cell_type": "markdown",
   "metadata": {},
   "source": [
    "### Exercises\n",
    "\n",
    "16. Fit the following statistical models:\n",
    "\n",
    "  16.1 Fit a linear model of the variables in the `chol.txt` data with `Cholesterol` as the response variable. Compare various models.\n",
    "  \n",
    "  16.2 Fit linear models for each of the four subsets of Anscombe's Quartet, i.e. `I`, `II`, `III` and `IV`. Compare the four models! Anscombe's Quartet is a built-in dataset of the seaborn module:"
   ]
  },
  {
   "cell_type": "code",
   "execution_count": null,
   "metadata": {},
   "outputs": [],
   "source": [
    "import seaborn as sns    # If not loaded yet\n",
    "anscombe = sns.load_dataset('anscombe')"
   ]
  },
  {
   "cell_type": "code",
   "execution_count": null,
   "metadata": {},
   "outputs": [],
   "source": []
  }
 ],
 "metadata": {
  "kernelspec": {
   "display_name": "Python 3",
   "language": "python",
   "name": "python3"
  },
  "language_info": {
   "codemirror_mode": {
    "name": "ipython",
    "version": 3
   },
   "file_extension": ".py",
   "mimetype": "text/x-python",
   "name": "python",
   "nbconvert_exporter": "python",
   "pygments_lexer": "ipython3",
   "version": "3.7.4"
  }
 },
 "nbformat": 4,
 "nbformat_minor": 2
}
